{
 "cells": [
  {
   "cell_type": "code",
   "execution_count": 2,
   "id": "2d86d739",
   "metadata": {},
   "outputs": [],
   "source": [
    "import numpy as np\n",
    "from tensorflow import keras\n",
    "from keras import regularizers"
   ]
  },
  {
   "cell_type": "code",
   "execution_count": 3,
   "id": "d24b85be",
   "metadata": {},
   "outputs": [],
   "source": [
    "fashion_mnist = keras.datasets.fashion_mnist\n",
    "(train_images, train_labels), (test_images, test_labels) = fashion_mnist.load_data()"
   ]
  },
  {
   "cell_type": "code",
   "execution_count": 4,
   "id": "5b87577f",
   "metadata": {},
   "outputs": [],
   "source": [
    "train_images = train_images / 255.0\n",
    "test_images = test_images / 255.0"
   ]
  },
  {
   "cell_type": "code",
   "execution_count": 5,
   "id": "fc3908ab",
   "metadata": {},
   "outputs": [],
   "source": [
    "input_shape = (train_images.shape[1], train_images.shape[2], 1)\n",
    "train_images = np.reshape(train_images, (-1, input_shape[0], input_shape[1], input_shape[2]))\n",
    "test_images = np.reshape(test_images, (-1, input_shape[0], input_shape[1], input_shape[2]))"
   ]
  },
  {
   "cell_type": "code",
   "execution_count": 6,
   "id": "345f2169",
   "metadata": {},
   "outputs": [],
   "source": [
    "model = keras.Sequential([\n",
    "    keras.layers.Conv2D(32, kernel_size=(3, 3), activation='relu', input_shape=input_shape),\n",
    "    keras.layers.MaxPooling2D(pool_size=(2, 2)),\n",
    "    keras.layers.Conv2D(64, kernel_size=(3, 3), activation='relu'),\n",
    "    keras.layers.MaxPooling2D(pool_size=(2, 2)),\n",
    "    keras.layers.Flatten(),\n",
    "    keras.layers.Dense(256, activation='relu'),\n",
    "    keras.layers.Dropout(0.2),\n",
    "    keras.layers.Dense(10, activation='softmax')\n",
    "])"
   ]
  },
  {
   "cell_type": "code",
   "execution_count": 7,
   "id": "a9ba2240",
   "metadata": {
    "scrolled": true
   },
   "outputs": [],
   "source": [
    "model.compile(optimizer='Adamax',\n",
    "              loss='sparse_categorical_crossentropy',\n",
    "              metrics=['accuracy'])"
   ]
  },
  {
   "cell_type": "code",
   "execution_count": 8,
   "id": "db91340a",
   "metadata": {
    "scrolled": true
   },
   "outputs": [
    {
     "name": "stdout",
     "output_type": "stream",
     "text": [
      "Epoch 1/40\n",
      "118/118 [==============================] - 8s 63ms/step - loss: 0.8470 - accuracy: 0.7031\n",
      "Epoch 2/40\n",
      "118/118 [==============================] - 8s 68ms/step - loss: 0.5260 - accuracy: 0.8056\n",
      "Epoch 3/40\n",
      "118/118 [==============================] - 7s 58ms/step - loss: 0.4571 - accuracy: 0.8360\n",
      "Epoch 4/40\n",
      "118/118 [==============================] - 8s 66ms/step - loss: 0.4184 - accuracy: 0.8510\n",
      "Epoch 5/40\n",
      "118/118 [==============================] - 7s 59ms/step - loss: 0.3877 - accuracy: 0.8619\n",
      "Epoch 6/40\n",
      "118/118 [==============================] - 8s 68ms/step - loss: 0.3699 - accuracy: 0.8679\n",
      "Epoch 7/40\n",
      "118/118 [==============================] - 7s 59ms/step - loss: 0.3504 - accuracy: 0.8758\n",
      "Epoch 8/40\n",
      "118/118 [==============================] - 8s 64ms/step - loss: 0.3378 - accuracy: 0.8792\n",
      "Epoch 9/40\n",
      "118/118 [==============================] - 7s 61ms/step - loss: 0.3251 - accuracy: 0.8824\n",
      "Epoch 10/40\n",
      "118/118 [==============================] - 7s 62ms/step - loss: 0.3139 - accuracy: 0.8869\n",
      "Epoch 11/40\n",
      "118/118 [==============================] - 8s 64ms/step - loss: 0.3060 - accuracy: 0.8893\n",
      "Epoch 12/40\n",
      "118/118 [==============================] - 7s 59ms/step - loss: 0.2969 - accuracy: 0.8917\n",
      "Epoch 13/40\n",
      "118/118 [==============================] - 8s 68ms/step - loss: 0.2872 - accuracy: 0.8954\n",
      "Epoch 14/40\n",
      "118/118 [==============================] - 6s 54ms/step - loss: 0.2796 - accuracy: 0.8992\n",
      "Epoch 15/40\n",
      "118/118 [==============================] - 8s 67ms/step - loss: 0.2743 - accuracy: 0.9001\n",
      "Epoch 16/40\n",
      "118/118 [==============================] - 7s 59ms/step - loss: 0.2668 - accuracy: 0.9029\n",
      "Epoch 17/40\n",
      "118/118 [==============================] - 8s 72ms/step - loss: 0.2627 - accuracy: 0.9047\n",
      "Epoch 18/40\n",
      "118/118 [==============================] - 7s 59ms/step - loss: 0.2578 - accuracy: 0.9066\n",
      "Epoch 19/40\n",
      "118/118 [==============================] - 8s 66ms/step - loss: 0.2530 - accuracy: 0.9076\n",
      "Epoch 20/40\n",
      "118/118 [==============================] - 7s 60ms/step - loss: 0.2459 - accuracy: 0.9097\n",
      "Epoch 21/40\n",
      "118/118 [==============================] - 10s 81ms/step - loss: 0.2414 - accuracy: 0.9124\n",
      "Epoch 22/40\n",
      "118/118 [==============================] - 11s 94ms/step - loss: 0.2347 - accuracy: 0.9145\n",
      "Epoch 23/40\n",
      "118/118 [==============================] - 8s 66ms/step - loss: 0.2334 - accuracy: 0.9153\n",
      "Epoch 24/40\n",
      "118/118 [==============================] - 7s 59ms/step - loss: 0.2276 - accuracy: 0.9168\n",
      "Epoch 25/40\n",
      "118/118 [==============================] - 8s 67ms/step - loss: 0.2257 - accuracy: 0.9168\n",
      "Epoch 26/40\n",
      "118/118 [==============================] - 7s 59ms/step - loss: 0.2192 - accuracy: 0.9204\n",
      "Epoch 27/40\n",
      "118/118 [==============================] - 8s 68ms/step - loss: 0.2176 - accuracy: 0.9198\n",
      "Epoch 28/40\n",
      "118/118 [==============================] - 7s 61ms/step - loss: 0.2132 - accuracy: 0.9219\n",
      "Epoch 29/40\n",
      "118/118 [==============================] - 8s 68ms/step - loss: 0.2079 - accuracy: 0.9237\n",
      "Epoch 30/40\n",
      "118/118 [==============================] - 7s 60ms/step - loss: 0.2047 - accuracy: 0.9243\n",
      "Epoch 31/40\n",
      "118/118 [==============================] - 9s 73ms/step - loss: 0.2013 - accuracy: 0.9266\n",
      "Epoch 32/40\n",
      "118/118 [==============================] - 7s 59ms/step - loss: 0.1978 - accuracy: 0.9279\n",
      "Epoch 33/40\n",
      "118/118 [==============================] - 8s 69ms/step - loss: 0.1955 - accuracy: 0.9280\n",
      "Epoch 34/40\n",
      "118/118 [==============================] - 7s 61ms/step - loss: 0.1908 - accuracy: 0.9302\n",
      "Epoch 35/40\n",
      "118/118 [==============================] - 8s 64ms/step - loss: 0.1867 - accuracy: 0.9322\n",
      "Epoch 36/40\n",
      "118/118 [==============================] - 7s 63ms/step - loss: 0.1870 - accuracy: 0.9322\n",
      "Epoch 37/40\n",
      "118/118 [==============================] - 7s 63ms/step - loss: 0.1792 - accuracy: 0.9341\n",
      "Epoch 38/40\n",
      "118/118 [==============================] - 8s 64ms/step - loss: 0.1770 - accuracy: 0.9351\n",
      "Epoch 39/40\n",
      "118/118 [==============================] - 7s 61ms/step - loss: 0.1764 - accuracy: 0.9342\n",
      "Epoch 40/40\n",
      "118/118 [==============================] - 8s 66ms/step - loss: 0.1725 - accuracy: 0.9371\n"
     ]
    },
    {
     "data": {
      "text/plain": [
       "<keras.callbacks.History at 0x250aec6c520>"
      ]
     },
     "execution_count": 8,
     "metadata": {},
     "output_type": "execute_result"
    }
   ],
   "source": [
    "model.fit(train_images, train_labels, epochs=40, batch_size=512)"
   ]
  },
  {
   "cell_type": "code",
   "execution_count": 9,
   "id": "0dcb8c89",
   "metadata": {
    "scrolled": true
   },
   "outputs": [
    {
     "name": "stdout",
     "output_type": "stream",
     "text": [
      "313/313 [==============================] - 1s 2ms/step - loss: 0.2417 - accuracy: 0.9159\n",
      "Test accuracy: 0.9158999919891357\n"
     ]
    }
   ],
   "source": [
    "test_loss, test_acc = model.evaluate(test_images, test_labels)\n",
    "print('Test accuracy:', test_acc)"
   ]
  },
  {
   "cell_type": "code",
   "execution_count": 11,
   "id": "e38336a8",
   "metadata": {},
   "outputs": [
    {
     "name": "stdout",
     "output_type": "stream",
     "text": [
      "1/1 [==============================] - 0s 17ms/step\n",
      "Зображення 1: Передбачений клас - 6, Правильний клас - 6\n",
      "Зображення 2: Передбачений клас - 7, Правильний клас - 7\n",
      "Зображення 3: Передбачений клас - 0, Правильний клас - 6\n",
      "Зображення 4: Передбачений клас - 0, Правильний клас - 0\n",
      "Зображення 5: Передбачений клас - 8, Правильний клас - 8\n"
     ]
    }
   ],
   "source": [
    "random_indexes = np.random.choice(len(test_images), size=5, replace=False)\n",
    "random_images = test_images[random_indexes]\n",
    "random_labels = test_labels[random_indexes]\n",
    "\n",
    "predictions = model.predict(random_images)\n",
    "\n",
    "for i in range(5):\n",
    "    predicted_label = np.argmax(predictions[i])\n",
    "    true_label = random_labels[i]\n",
    "    print(f\"Зображення {i+1}: Передбачений клас - {predicted_label}, Правильний клас - {true_label}\")"
   ]
  },
  {
   "cell_type": "markdown",
   "id": "2faf9535",
   "metadata": {},
   "source": [
 
   ]
  }
 ],
 "metadata": {
  "kernelspec": {
   "display_name": "Python 3 (ipykernel)",
   "language": "python",
   "name": "python3"
  },
  "language_info": {
   "codemirror_mode": {
    "name": "ipython",
    "version": 3
   },
   "file_extension": ".py",
   "mimetype": "text/x-python",
   "name": "python",
   "nbconvert_exporter": "python",
   "pygments_lexer": "ipython3",
   "version": "3.10.11"
  }
 },
 "nbformat": 4,
 "nbformat_minor": 5
}
