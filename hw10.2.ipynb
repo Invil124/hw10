{
 "cells": [
  {
   "cell_type": "code",
   "execution_count": 1,
   "id": "deb91aae",
   "metadata": {},
   "outputs": [],
   "source": [
    "import numpy as np\n",
    "import tensorflow as tf\n",
    "from tensorflow import keras\n",
    "from tensorflow.keras.applications import VGG16\n",
    "from tensorflow.keras.datasets import fashion_mnist\n",
    "from tensorflow.keras.models import Sequential\n",
    "from tensorflow.keras.layers import Dense, Dropout, Flatten"
   ]
  },
  {
   "cell_type": "code",
   "execution_count": 2,
   "id": "d97ac97b",
   "metadata": {},
   "outputs": [],
   "source": [
    "(train_images, train_labels), (test_images, test_labels) = fashion_mnist.load_data()"
   ]
  },
  {
   "cell_type": "code",
   "execution_count": 3,
   "id": "cfee7f92",
   "metadata": {},
   "outputs": [],
   "source": [
    "train_images = tf.image.resize(np.array(train_images)[..., tf.newaxis], (32, 32))\n",
    "train_images = np.repeat(train_images, 3, axis=-1)\n",
    "test_images = tf.image.resize(np.array(test_images)[..., tf.newaxis], (32, 32))\n",
    "test_images = np.repeat(test_images, 3, axis=-1)\n",
    "train_images = train_images / 255.0\n",
    "test_images = test_images / 255.0"
   ]
  },
  {
   "cell_type": "code",
   "execution_count": 4,
   "id": "e866f204",
   "metadata": {
    "scrolled": true
   },
   "outputs": [],
   "source": [
    "vgg_base = VGG16(weights='imagenet', include_top=False, input_shape=(32, 32, 3))\n",
    "vgg_base.trainable = False"
   ]
  },
  {
   "cell_type": "code",
   "execution_count": 5,
   "id": "3ac757ce",
   "metadata": {},
   "outputs": [],
   "source": [
    "model = Sequential([\n",
    "    vgg_base,\n",
    "    Flatten(),\n",
    "    Dense(256, activation='relu'),\n",
    "    Dropout(0.5),\n",
    "    Dense(10, activation='softmax')\n",
    "])"
   ]
  },
  {
   "cell_type": "code",
   "execution_count": 6,
   "id": "2ad755e0",
   "metadata": {},
   "outputs": [],
   "source": [
    "model.compile(optimizer='adam', loss='sparse_categorical_crossentropy', metrics=['accuracy'])"
   ]
  },
  {
   "cell_type": "code",
   "execution_count": 7,
   "id": "2764e43c",
   "metadata": {},
   "outputs": [
    {
     "name": "stdout",
     "output_type": "stream",
     "text": [
      "Epoch 1/10\n",
      "469/469 [==============================] - 139s 294ms/step - loss: 0.6995 - accuracy: 0.7544 - val_loss: 0.4834 - val_accuracy: 0.8264\n",
      "Epoch 2/10\n",
      "469/469 [==============================] - 138s 295ms/step - loss: 0.4876 - accuracy: 0.8248 - val_loss: 0.4341 - val_accuracy: 0.8409\n",
      "Epoch 3/10\n",
      "469/469 [==============================] - 141s 301ms/step - loss: 0.4441 - accuracy: 0.8373 - val_loss: 0.4153 - val_accuracy: 0.8459\n",
      "Epoch 4/10\n",
      "469/469 [==============================] - 143s 305ms/step - loss: 0.4203 - accuracy: 0.8470 - val_loss: 0.3978 - val_accuracy: 0.8521\n",
      "Epoch 5/10\n",
      "469/469 [==============================] - 142s 303ms/step - loss: 0.4036 - accuracy: 0.8522 - val_loss: 0.3902 - val_accuracy: 0.8561\n",
      "Epoch 6/10\n",
      "469/469 [==============================] - 143s 306ms/step - loss: 0.3888 - accuracy: 0.8586 - val_loss: 0.3794 - val_accuracy: 0.8603\n",
      "Epoch 7/10\n",
      "469/469 [==============================] - 140s 300ms/step - loss: 0.3781 - accuracy: 0.8610 - val_loss: 0.3802 - val_accuracy: 0.8583\n",
      "Epoch 8/10\n",
      "469/469 [==============================] - 144s 307ms/step - loss: 0.3693 - accuracy: 0.8629 - val_loss: 0.3677 - val_accuracy: 0.8631\n",
      "Epoch 9/10\n",
      "469/469 [==============================] - 139s 297ms/step - loss: 0.3602 - accuracy: 0.8675 - val_loss: 0.3653 - val_accuracy: 0.8663\n",
      "Epoch 10/10\n",
      "469/469 [==============================] - 143s 304ms/step - loss: 0.3552 - accuracy: 0.8692 - val_loss: 0.3694 - val_accuracy: 0.8657\n"
     ]
    },
    {
     "data": {
      "text/plain": [
       "<keras.callbacks.History at 0x2d1b7debd60>"
      ]
     },
     "execution_count": 7,
     "metadata": {},
     "output_type": "execute_result"
    }
   ],
   "source": [
    "model.fit(train_images, train_labels, epochs=10, batch_size=128, validation_data=(test_images, test_labels))"
   ]
  },
  {
   "cell_type": "code",
   "execution_count": 8,
   "id": "e76177d1",
   "metadata": {
    "scrolled": true
   },
   "outputs": [
    {
     "name": "stdout",
     "output_type": "stream",
     "text": [
      "Epoch 1/5\n",
      "469/469 [==============================] - 147s 315ms/step - loss: 0.3503 - accuracy: 0.8699 - val_loss: 0.3594 - val_accuracy: 0.8686\n",
      "Epoch 2/5\n",
      "469/469 [==============================] - 146s 311ms/step - loss: 0.3429 - accuracy: 0.8716 - val_loss: 0.3637 - val_accuracy: 0.8673\n",
      "Epoch 3/5\n",
      "469/469 [==============================] - 146s 311ms/step - loss: 0.3367 - accuracy: 0.8755 - val_loss: 0.3672 - val_accuracy: 0.8664\n",
      "Epoch 4/5\n",
      "469/469 [==============================] - 147s 313ms/step - loss: 0.3331 - accuracy: 0.8755 - val_loss: 0.3508 - val_accuracy: 0.8725\n",
      "Epoch 5/5\n",
      "469/469 [==============================] - 140s 300ms/step - loss: 0.3279 - accuracy: 0.8785 - val_loss: 0.3507 - val_accuracy: 0.8717\n"
     ]
    },
    {
     "data": {
      "text/plain": [
       "<keras.callbacks.History at 0x2d1bbd6b100>"
      ]
     },
     "execution_count": 8,
     "metadata": {},
     "output_type": "execute_result"
    }
   ],
   "source": [
    "model.fit(train_images, train_labels, epochs=5, batch_size=128, validation_data=(test_images, test_labels))"
   ]
  },
  {
   "cell_type": "code",
   "execution_count": 10,
   "id": "107fe725",
   "metadata": {},
   "outputs": [
    {
     "name": "stdout",
     "output_type": "stream",
     "text": [
      "313/313 [==============================] - 28s 91ms/step - loss: 0.3507 - accuracy: 0.8717\n",
      "Test accuracy (VGG16 model): 0.8716999888420105\n"
     ]
    }
   ],
   "source": [
    "_, test_acc = model.evaluate(test_images, test_labels)\n",
    "print('Test accuracy (VGG16 model):', test_acc)"
   ]
  },
  {
   "cell_type": "code",
   "execution_count": null,
   "id": "1bfd29c4",
   "metadata": {},
   "outputs": [],
   "source": [
    "Висновки: На мою думку ця модель не сильно підходить для цього датасету, навчання довше а результат не краще. "
   ]
  }
 ],
 "metadata": {
  "kernelspec": {
   "display_name": "Python 3 (ipykernel)",
   "language": "python",
   "name": "python3"
  },
  "language_info": {
   "codemirror_mode": {
    "name": "ipython",
    "version": 3
   },
   "file_extension": ".py",
   "mimetype": "text/x-python",
   "name": "python",
   "nbconvert_exporter": "python",
   "pygments_lexer": "ipython3",
   "version": "3.10.11"
  }
 },
 "nbformat": 4,
 "nbformat_minor": 5
}
